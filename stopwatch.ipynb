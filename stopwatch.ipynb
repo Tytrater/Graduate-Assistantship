{
 "cells": [
  {
   "cell_type": "code",
   "execution_count": 30,
   "metadata": {},
   "outputs": [
    {
     "name": "stdout",
     "output_type": "stream",
     "text": [
      "timesheet found\n",
      "Clocked in for Rajiv at 2024-10-03 11:17:42.679513\n"
     ]
    }
   ],
   "source": [
    "import time\n",
    "from datetime import timedelta, datetime\n",
    "import csv\n",
    "import os\n",
    "\n",
    "def convert_seconds(seconds):\n",
    "    minutes = 0\n",
    "    hours = 0\n",
    "    if seconds > 60:\n",
    "        minutes = seconds/60\n",
    "        seconds = seconds % 60\n",
    "    if minutes > 60:\n",
    "        hours = minutes / 60\n",
    "        minutes = minutes % 60\n",
    "    return round(hours),round(minutes),seconds\n",
    "\n",
    "# Confirm working directory\n",
    "if 'timesheet.csv' in os.listdir():\n",
    "    print('timesheet found')\n",
    "    # Start stopwatch\n",
    "    start = time.time()\n",
    "    jobs = {1:'Michael',\n",
    "            2:'Rajiv',\n",
    "            3:'Mixed',\n",
    "            4:'Independent Study'}\n",
    "    job = int(input('enter job code'))\n",
    "    print(f'Clocked in for {jobs.get(job)} at {datetime.now()}')\n",
    "else:\n",
    "    print('timesheet not found')"
   ]
  },
  {
   "cell_type": "code",
   "execution_count": 7,
   "metadata": {},
   "outputs": [
    {
     "name": "stdout",
     "output_type": "stream",
     "text": [
      "Clocked out from 2 at 2024-10-03 09:48:37.956729\n"
     ]
    }
   ],
   "source": [
    "# End Stopwatch, Calculate time, write to timesheet.csv\n",
    "end = time.time()\n",
    "clock = round(end - start)\n",
    "shift = convert_seconds(clock)\n",
    "print(f'Clocked out from {job} at {datetime.now()}')\n",
    "\n",
    "date = datetime.now().date()\n",
    "\n",
    "# data for timesheet appends\n",
    "data = [date,job,shift[0],shift[1],shift[2]]\n",
    "\n",
    "path = 'E:/SynologyDrive/GA/timesheet_test.csv'\n",
    "with open (path,'a') as file:\n",
    "    writer = csv.writer(file)\n",
    "    writer.writerows(data)"
   ]
  },
  {
   "cell_type": "code",
   "execution_count": 26,
   "metadata": {},
   "outputs": [],
   "source": [
    "\n",
    "\n",
    "#Data for initial timesheet file\n",
    "# data = [\n",
    "#     ['date', 'job', 'hours', 'minutes', 'seconds'],\n",
    "#     [date,job,shift[0],shift[1],shift[2]]\n",
    "# ]\n",
    "\n"
   ]
  },
  {
   "cell_type": "code",
   "execution_count": 23,
   "metadata": {},
   "outputs": [
    {
     "data": {
      "text/plain": [
       "'E:\\\\SynologyDrive\\\\GA\\\\Assignment 3- Feature Similarity and Co-occurence'"
      ]
     },
     "execution_count": 23,
     "metadata": {},
     "output_type": "execute_result"
    }
   ],
   "source": [
    "import os\n",
    "os.getcwd()"
   ]
  }
 ],
 "metadata": {
  "kernelspec": {
   "display_name": "Python 3 (ipykernel)",
   "language": "python",
   "name": "python3"
  },
  "language_info": {
   "codemirror_mode": {
    "name": "ipython",
    "version": 3
   },
   "file_extension": ".py",
   "mimetype": "text/x-python",
   "name": "python",
   "nbconvert_exporter": "python",
   "pygments_lexer": "ipython3",
   "version": "3.11.7"
  }
 },
 "nbformat": 4,
 "nbformat_minor": 2
}
