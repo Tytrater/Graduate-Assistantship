{
 "cells": [
  {
   "cell_type": "code",
   "execution_count": 36,
   "metadata": {},
   "outputs": [],
   "source": [
    "import time\n",
    "from datetime import timedelta, datetime\n",
    "\n",
    "def convert_seconds(seconds):\n",
    "    minutes = 0\n",
    "    hours = 0\n",
    "    if seconds > 60:\n",
    "        minutes = seconds/60\n",
    "        seconds = seconds % 60\n",
    "    if minutes > 60:\n",
    "        hours = minutes / 60\n",
    "        minutes = minutes % 60\n",
    "    return round(hours),round(minutes),seconds"
   ]
  },
  {
   "cell_type": "code",
   "execution_count": 5,
   "metadata": {},
   "outputs": [],
   "source": [
    "# Start stopwatch\n",
    "start = time.time()\n",
    "jobs = {1:'Michael',\n",
    "        2:'Rajiv',\n",
    "        3:'Mixed',\n",
    "        4:'Independent Study'}\n",
    "job = input('enter job code')\n",
    "print(f'Clocked in for {job} at {datetime.now()}')"
   ]
  },
  {
   "cell_type": "code",
   "execution_count": 34,
   "metadata": {},
   "outputs": [],
   "source": [
    "# End Stopwatch and Calculate time\n",
    "end = time.time()\n",
    "clock = round(end - start)\n",
    "shift = convert_seconds(clock)"
   ]
  },
  {
   "cell_type": "code",
   "execution_count": 35,
   "metadata": {},
   "outputs": [
    {
     "data": {
      "text/plain": [
       "(0, 17, 11)"
      ]
     },
     "execution_count": 35,
     "metadata": {},
     "output_type": "execute_result"
    }
   ],
   "source": [
    "shift"
   ]
  }
 ],
 "metadata": {
  "kernelspec": {
   "display_name": "Python 3 (ipykernel)",
   "language": "python",
   "name": "python3"
  },
  "language_info": {
   "codemirror_mode": {
    "name": "ipython",
    "version": 3
   },
   "file_extension": ".py",
   "mimetype": "text/x-python",
   "name": "python",
   "nbconvert_exporter": "python",
   "pygments_lexer": "ipython3",
   "version": "3.11.7"
  }
 },
 "nbformat": 4,
 "nbformat_minor": 2
}
