{
 "cells": [
  {
   "cell_type": "code",
   "execution_count": 5,
   "metadata": {},
   "outputs": [
    {
     "name": "stdout",
     "output_type": "stream",
     "text": [
      "timesheet found\n",
      "Clocked in for test at 2024-10-07 08:59:59.478353\n"
     ]
    }
   ],
   "source": [
    "import time\n",
    "from datetime import timedelta, datetime\n",
    "import csv\n",
    "import os\n",
    "\n",
    "def convert_seconds(seconds):\n",
    "    minutes = 0\n",
    "    hours = 0\n",
    "    if seconds > 60:\n",
    "        minutes = seconds/60\n",
    "        seconds = seconds % 60\n",
    "    if minutes > 60:\n",
    "        hours = minutes / 60\n",
    "        minutes = minutes % 60\n",
    "    return round(hours),round(minutes),seconds\n",
    "\n",
    "def csv_writer(mode):\n",
    "    with open ('timesheet.csv',mode) as file:\n",
    "        writer = csv.writer(file)\n",
    "        writer.writerow(data)\n",
    "        print(f'{file_ts} updated')\n",
    "\n",
    "os.chdir('E:\\SynologyDrive\\School\\School\\MSDataScience\\Teaching Assistant/timesheet')\n",
    "# Confirm working directory\n",
    "if 'stopwatch.ipynb' in os.listdir():\n",
    "    print('timesheet found')\n",
    "    # Start stopwatch\n",
    "    start = time.time()\n",
    "    # check for active clock session- need error/warning management- check MIS 76-something Java\n",
    "    # if shift_active:\n",
    "\n",
    "    shift_active = True\n",
    "    jobs = {1:'Michael',\n",
    "            2:'Rajiv',\n",
    "            3:'Mixed',\n",
    "            4:'Independent Study',\n",
    "            5: 'test'}\n",
    "    job = int(input('enter job code'))\n",
    "    print(f'Clocked in for {jobs.get(job)} at {datetime.now()}')\n",
    "else:\n",
    "    print('stopwatch.ipynb not found')\n",
    "    print(os.getcwd())"
   ]
  },
  {
   "cell_type": "code",
   "execution_count": 6,
   "metadata": {},
   "outputs": [
    {
     "name": "stdout",
     "output_type": "stream",
     "text": [
      "Clocked out from test at 2024-10-07 09:00:02.346188\n",
      "shift time: 0:0:5\n",
      "timesheet.csv updated\n"
     ]
    }
   ],
   "source": [
    "# End Stopwatch, Calculate time, write to timesheet.csv\n",
    "if shift_active:\n",
    "    shift_active = False\n",
    "    end = time.time()\n",
    "    clock = round(end - start)\n",
    "    shift = convert_seconds(clock)\n",
    "    print(f'Clocked out from {jobs.get(job)} at {datetime.now()}')\n",
    "    print(f'shift time: {shift[0]}:{shift[1]}:{shift[2]}')\n",
    "\n",
    "    date = datetime.now().date()\n",
    "    date = datetime.strftime(date,format= '%y/%m/%d')\n",
    "\n",
    "    # data for timesheet appends\n",
    "    data = [date,jobs.get(job),shift[0],shift[1],shift[2]]\n",
    "\n",
    "    path = 'E:/SynologyDrive/GA/timesheet.csv'\n",
    "    # file typescript? I forgot where this var name came from\n",
    "    file_ts = path.split('/')[-1]\n",
    "    with open ('timesheet.csv','a',newline='') as file:\n",
    "        writer = csv.writer(file)\n",
    "        writer.writerow(data)\n",
    "        print(f'{file_ts} updated')\n",
    "\n",
    "\n",
    "else:\n",
    "    print('no active shift')"
   ]
  },
  {
   "cell_type": "code",
   "execution_count": 26,
   "metadata": {},
   "outputs": [],
   "source": [
    "\n",
    "\n",
    "#Data for initial timesheet file\n",
    "# data = [\n",
    "#     ['date', 'job', 'hours', 'minutes', 'seconds'],\n",
    "#     [date,job,shift[0],shift[1],shift[2]]\n",
    "# ]\n",
    "\n",
    "import os\n",
    "os.getcwd()"
   ]
  }
 ],
 "metadata": {
  "kernelspec": {
   "display_name": "Python 3 (ipykernel)",
   "language": "python",
   "name": "python3"
  },
  "language_info": {
   "codemirror_mode": {
    "name": "ipython",
    "version": 3
   },
   "file_extension": ".py",
   "mimetype": "text/x-python",
   "name": "python",
   "nbconvert_exporter": "python",
   "pygments_lexer": "ipython3",
   "version": "3.11.7"
  }
 },
 "nbformat": 4,
 "nbformat_minor": 2
}
