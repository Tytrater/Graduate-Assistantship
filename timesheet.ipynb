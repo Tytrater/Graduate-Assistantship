{
 "cells": [
  {
   "cell_type": "code",
   "execution_count": 2,
   "metadata": {},
   "outputs": [
    {
     "name": "stdout",
     "output_type": "stream",
     "text": [
      "            date  advisor  hours  minutes  seconds  hours_worked        day\n",
      "0     2024-09-16    Rajiv      1        0        0      1.000000     Monday\n",
      "1     2024-09-16       IS      0       26       51      0.447500     Monday\n",
      "2     2024-09-16    Rajiv      1       32       34      1.542778     Monday\n",
      "3     2024-09-17    Rajiv      1        0        0      1.000000    Tuesday\n",
      "4     2024-09-17  Michael      1       16       40      1.277778    Tuesday\n",
      "5     2024-09-17  Michael      1       30        1      1.500278    Tuesday\n",
      "6     2024-09-18  Michael      1       36       47      1.613056  Wednesday\n",
      "7     2024-09-18  Michael      0       29       35      0.493056  Wednesday\n",
      "8     2024-09-18    Rajiv      0        5        0      0.083333  Wednesday\n",
      "9     2024-09-19    Rajiv      0       21       19      0.355278   Thursday\n",
      "10    2024-09-19    Rajiv      0       25       14      0.420556   Thursday\n",
      "11    2024-09-19    split      0        8        5      0.134722   Thursday\n",
      "12    2024-09-19    Rajiv      2        1       10      2.019444   Thursday\n",
      "Total 2024-09-19               8      229      256     11.887778      Total\n",
      "Mke: 4.884166666666666\n",
      "Rajiv: 6.421388888888888\n"
     ]
    }
   ],
   "source": [
    "import pandas as pd\n",
    "import matplotlib.pyplot as plt\n",
    "\n",
    "def fill_copies(dframe,column):\n",
    "    copies = int(dframe.loc[dframe[column] == '-', column].count())\n",
    "    for i in range(0,copies):\n",
    "        dframe.loc[dframe[column] == '-', column] = dframe[column].shift(1)\n",
    "    return dframe\n",
    "\n",
    "# file = '20240916.csv'\n",
    "path = f'Z:\\Raw\\Graduate Assistantship/timesheet/timestamps/{file}'\n",
    "df = pd.read_csv(path) \n",
    "df = fill_copies(df,'date')\n",
    "df = fill_copies(df,'advisor')\n",
    "df.loc['Total'] = df.sum()\n",
    "# df['date'].iloc[-1] = df['date'].iloc[-2]\n",
    "df.loc[df.index[-1],'date'] = df.loc[df.index[-2],'date']\n",
    "df['hours_worked'] = df['hours'] + df['minutes']/60 + df['seconds']/3600\n",
    "df['date'] = pd.to_datetime(df['date'])\n",
    "df['day'] = df['date'].dt.day_name()\n",
    "# df['day'][-1] = 'Total'\n",
    "df.loc[df.index[-1],'day'] = 'Total'\n",
    "df.loc[df.index[-1],'advisor'] = ''\n",
    "print(df)\n",
    "hours_mike = df[df['advisor'] == 'Michael']['hours_worked'].sum()\n",
    "hours_rajiv = df[df['advisor'] == 'Rajiv']['hours_worked'].sum()\n",
    "print('Mke: ' + str(hours_mike))\n",
    "print('Rajiv: ' + str(hours_rajiv))"
   ]
  },
  {
   "cell_type": "code",
   "execution_count": 9,
   "metadata": {},
   "outputs": [
    {
     "name": "stdout",
     "output_type": "stream",
     "text": [
      "Rajiv: 6.42\n",
      "IS: 0.45\n",
      "Michael: 4.88\n",
      "split: 0.13\n"
     ]
    }
   ],
   "source": [
    "hours = []\n",
    "for advisor in df['advisor'].unique()[:-1]:\n",
    "    hours = df[df['advisor'] == advisor]['hours_worked'].sum()\n",
    "    print(advisor + ': ' + str(round(hours,2)))\n",
    "    \n",
    "# hours_rajiv = df[df['advisor'] == 'Rajiv']['hours_worked'].sum()\n",
    "# print('Mke: ' + str(hours_mike))\n",
    "# print('Rajiv: ' + str(hours_rajiv))"
   ]
  },
  {
   "cell_type": "code",
   "execution_count": 6,
   "metadata": {},
   "outputs": [
    {
     "data": {
      "text/plain": [
       "array(['Rajiv', 'IS', 'Michael', 'split'], dtype=object)"
      ]
     },
     "execution_count": 6,
     "metadata": {},
     "output_type": "execute_result"
    }
   ],
   "source": [
    "df['advisor'].unique()[:-1]"
   ]
  },
  {
   "cell_type": "code",
   "execution_count": 95,
   "metadata": {},
   "outputs": [
    {
     "data": {
      "image/png": "[encoded data removed]",
      "text/plain": [
       "<Figure size 640x480 with 1 Axes>"
      ]
     },
     "metadata": {},
     "output_type": "display_data"
    }
   ],
   "source": [
    "# fig, ax = plt.subplots()\n",
    "# ax.plot(df['day'],df['hours_worked'])\n",
    "# ax.set_xticklabels(df['day'])\n",
    "\n",
    "# df[['day','hours_worked']].plot(kind='bar')\n",
    "\n",
    "plt.bar(df['day'],df['hours_worked'])\n",
    "plt.xticks(df['day'])\n",
    "plt.show()\n"
   ]
  },
  {
   "cell_type": "code",
   "execution_count": 96,
   "metadata": {},
   "outputs": [
    {
     "data": {
      "text/plain": [
       "<Figure size 640x480 with 0 Axes>"
      ]
     },
     "metadata": {},
     "output_type": "display_data"
    }
   ],
   "source": [
    "plt.savefig('hours.jpg')"
   ]
  },
  {
   "cell_type": "code",
   "execution_count": 97,
   "metadata": {},
   "outputs": [
    {
     "data": {
      "text/plain": [
       "'Z:\\\\Raw'"
      ]
     },
     "execution_count": 97,
     "metadata": {},
     "output_type": "execute_result"
    }
   ],
   "source": [
    "import os\n",
    "os.getcwd()"
   ]
  }
 ],
 "metadata": {
  "kernelspec": {
   "display_name": "Python 3 (ipykernel)",
   "language": "python",
   "name": "python3"
  }
 },
 "nbformat": 4,
 "nbformat_minor": 2
}
