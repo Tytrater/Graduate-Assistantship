{
 "cells": [
  {
   "cell_type": "code",
   "execution_count": 42,
   "id": "5497013f-5a08-45b2-a7f4-2cfcf6ded847",
   "metadata": {},
   "outputs": [
    {
     "name": "stdout",
     "output_type": "stream",
     "text": [
      "C:\\Users\\17023\\Downloads\\GA\\Assignment 3- Feature Similarity and Co-occurence\n",
      "['Assignment 3 Solution.ipynb', 'Assignment 3 Solution_Tyler.ipynb', 'codes.csv', 'comments.txt', 'grades.csv', 'Housing.csv', 'MIS 776 Assignment 3.pdf', 'submissions', 'submissions.zip']\n"
     ]
    }
   ],
   "source": [
    "import pandas as pd\n",
    "import os\n",
    "import csv\n",
    "print(os.getcwd())\n",
    "print(os.listdir())"
   ]
  },
  {
   "cell_type": "code",
   "execution_count": 47,
   "id": "c4f1a7a4",
   "metadata": {},
   "outputs": [],
   "source": [
    "for file in os.listdir('submissions'):\n",
    "    if file.endswith('ipynb'):\n",
    "        name_student = file.split('_')[0]\n",
    "        comments = 'submissions/' + name_student + '.txt'\n",
    "        with open(comments,mode='w') as file:\n",
    "            file.write('')"
   ]
  },
  {
   "cell_type": "code",
   "execution_count": 25,
   "id": "07c2bc2a-fe15-4b1f-ad90-55c8b602e75f",
   "metadata": {},
   "outputs": [],
   "source": [
    "name = []\n",
    "code = []\n",
    "for file in os.listdir('submissions'):\n",
    "    if file.endswith('ipynb'):\n",
    "        name_student = file.split('_')[0]\n",
    "        name.append(name_student)\n",
    "        code.append('')\n",
    "        comments = name_student + '.txt'\n",
    "        with open(comments,mode='w') as file:\n",
    "            file.write('')\n",
    "df = pd.DataFrame({'name':name,'code':code})\n",
    "df.to_csv('grades.csv')\n",
    "\n",
    "header = ['code','deduction','detail']\n",
    "code = [1]\n",
    "deduction = [0]\n",
    "detail = ['Full Credit']\n",
    "for i in range(2,11):\n",
    "    code.append(i)\n",
    "    deduction.append('')\n",
    "    detail.append('')\n",
    "data = {'code':code,'deduction':deduction,'detail':detail}\n",
    "df = pd.DataFrame(data,columns=header).set_index('code')\n",
    "df.to_csv('codes.csv')\n",
    "\n",
    "comments = '1'\n",
    "comments += '\\n'*1 \n",
    "comments += 'Good job  !' \n",
    "comments += '\\n'*2\n",
    "comments +='~'*110\n",
    "for i in range(2,11):\n",
    "    comments += i\n",
    "    comments += '\\n'*4\n",
    "    comments +='~'*110\n",
    "with open('comments.txt',mode='w') as file:\n",
    "    file.write(comments)"
   ]
  },
  {
   "cell_type": "code",
   "execution_count": 41,
   "id": "44df7579",
   "metadata": {},
   "outputs": [],
   "source": []
  }
 ],
 "metadata": {
  "kernelspec": {
   "display_name": "Python 3 (ipykernel)",
   "language": "python",
   "name": "python3"
  }
 },
 "nbformat": 4,
 "nbformat_minor": 5
}
