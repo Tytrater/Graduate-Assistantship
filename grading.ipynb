{
 "cells": [
  {
   "cell_type": "code",
   "execution_count": 4,
   "id": "5497013f-5a08-45b2-a7f4-2cfcf6ded847",
   "metadata": {},
   "outputs": [
    {
     "name": "stdout",
     "output_type": "stream",
     "text": [
      "Z:\\SynologyDrive\\Kona\\School\\MSDataScience\\Graduate-Assistantship\\IS 471\\Assignments\\Assignment 6- MapReduce\n",
      "['.ipynb_checkpoints', 'u - Copy.data', 'MapReduceDemo.ipynb', 'grading.ipynb', 'MapReduceCHP6-TAComments.ipynb', 'file_types.csv', 'MapreduceSolution.ipynb', 'submissions.zip', 'MapReduceCHP6-1.ipynb', 'AverageMovieReviews.py', 'u.data', 'Webcampus.txt', 'GA Notes.ipynb']\n",
      "file types: \n",
      "0: ipynb\n",
      "1: twbx\n",
      "\n"
     ]
    }
   ],
   "source": [
    "import pandas as pd\n",
    "import os\n",
    "import csv\n",
    "import json\n",
    "from zipfile import ZipFile\n",
    "print(os.getcwd())\n",
    "print(os.listdir())\n",
    "\n",
    "\n",
    "def cd():\n",
    "    path = 'Assignments/'\n",
    "    path+= input('assignment directory') \n",
    "    if path.split('/')[-1] not in os.getcwd():                             \n",
    "        os.chdir(path)\n",
    "\n",
    "def extract_markdown(file):\n",
    "    with open(file,'r') as file:\n",
    "        notebook = json.load(file)\n",
    "    \n",
    "    markdown_cells = [cell['source'] for cell in notebook['cells'] if cell['cell_type'] == 'markdown']\n",
    "\n",
    "    for i,cell in enumerate(markdown_cells):\n",
    "        print(''.join(cell))\n",
    "\n",
    "def initialize_grades(ft):\n",
    "    name = []\n",
    "    code = []\n",
    "    deduction = []\n",
    "    count = 0\n",
    "    for file in os.listdir('submissions'):\n",
    "        if file.endswith(f'.{ft}'):\n",
    "            print(file)\n",
    "            name_student = file.split('_')[0]\n",
    "            name.append(name_student)\n",
    "            code.append('')\n",
    "            deduction.append('')\n",
    "            comments = f'submissions/{name_student}.txt'\n",
    "            with open(comments,mode='w') as file:\n",
    "                file.write('')\n",
    "    grades = pd.DataFrame({'name':name,'code':code,'deduction':deduction})\n",
    "    return grades\n",
    "\n",
    "def initialize_codes(questions):\n",
    "    header = ['code','deduction_auto','detail']\n",
    "    \n",
    "    code = [0]\n",
    "    deduction = [0]\n",
    "    detail = ['Manual']\n",
    "    code.append(1)\n",
    "    deduction.append(0)\n",
    "    detail.append('Full Credit')\n",
    "    for question in questions:\n",
    "        code.append(f'{question}.1')\n",
    "        deduction.append('')\n",
    "        detail.append('')\n",
    "    data = {'code':code,'deduction':deduction,'detail':detail}\n",
    "    codes = pd.DataFrame(data,columns=header).set_index('code')\n",
    "    return codes\n",
    "\n",
    "def initialize_comments(questions):\n",
    "    comments = '0.1'\n",
    "    comments += '\\n'*1 \n",
    "    comments += 'Good job  !' \n",
    "    comments += '\\n'*2\n",
    "    comments +='~'*105+'\\n'\n",
    "    for i in range(questions):\n",
    "        comments += f'{i}.1'\n",
    "        comments += '\\n'*4\n",
    "        comments +='~'*105+'\\n'\n",
    "    with open('comments.txt',mode='w') as file:\n",
    "        file.write(comments)\n",
    "\n",
    "if 'file_types.csv' in os.listdir():\n",
    "    message = 'file types: \\n'\n",
    "    file_types = {}\n",
    "    with open('file_types.csv') as file:\n",
    "        reader = csv.reader(file)\n",
    "        file_types = next(reader)\n",
    "    for i in range(len(file_types)):\n",
    "        message += f'{i}: {file_types[i]}\\n'\n",
    "    print(message)"
   ]
  },
  {
   "cell_type": "code",
   "execution_count": 10,
   "id": "a73860be",
   "metadata": {},
   "outputs": [
    {
     "name": "stdout",
     "output_type": "stream",
     "text": [
      "twbx\n"
     ]
    }
   ],
   "source": [
    "num_file = int(input('enter file type from list'))\n",
    "file_type = (file_types[num_file])\n",
    "grades = initialize_grades(file_type)\n",
    "grades.to_csv('grades.csv')\n"
   ]
  },
  {
   "cell_type": "code",
   "execution_count": null,
   "id": "f2508ac1",
   "metadata": {},
   "outputs": [],
   "source": [
    "questions = int(input('Number of Questions'))+1\n",
    "initialize_comments(questions)\n",
    "codes = initialize_codes(questions)\n",
    "codes.to_csv('codes.csv')\n",
    "\n"
   ]
  },
  {
   "cell_type": "code",
   "execution_count": null,
   "id": "f4a923ac",
   "metadata": {},
   "outputs": [],
   "source": [
    "points = int(input('Enter point total for assignment'))\n",
    "\n",
    "def sum_points(keys):\n",
    "    # print(keys)\n",
    "    return sum(code_dict.get(key,0) for key in keys)\n",
    "\n",
    "grades = pd.read_csv('grades.csv')\n",
    "grades.drop(grades.columns[0],axis=1,inplace=True)\n",
    "grades['code'] = grades['code'].apply(lambda x: (str(x).split('_') ))\n",
    "grades['deduction'].fillna(0,inplace=True)\n",
    "# sum manual deductions in grades.deduction_manual\n",
    "grades['deduction'] = grades.eval(grades['deduction'])\n",
    "\n",
    "codes = pd.read_csv('codes.csv')\n",
    "codes['code'] = codes['code'].apply(lambda x: str(x))\n",
    "\n",
    "code_dict = dict(zip(codes['code'],codes['deduction_manual']))\n",
    "\n",
    "grades['deduction_manual'] = grades['code'].apply(sum_points)\n",
    "# grades['points'] = 20- grades['deduction']\n",
    "# grades = grades.drop('deduction',axis=1)\n",
    "grades['points'] = points - grades['deduction_manual'] - grades['deduction']\n",
    "grades"
   ]
  },
  {
   "cell_type": "code",
   "execution_count": 36,
   "id": "46066714",
   "metadata": {},
   "outputs": [],
   "source": [
    "names = []\n",
    "codes = []\n",
    "deductions = []\n",
    "for file in os.listdir('submissions'):\n",
    "    names.append(file.split('_')[0])\n",
    "    codes.append('')\n",
    "    deductions.append('')\n",
    "grades = pd.DataFrame({'name':names,'code':codes,'deduction_auto':deductions})\n",
    "grades.to_csv('grades.csv')\n",
    "\n"
   ]
  },
  {
   "cell_type": "code",
   "execution_count": 5,
   "id": "07c2bc2a-fe15-4b1f-ad90-55c8b602e75f",
   "metadata": {},
   "outputs": [],
   "source": [
    "# Check for active timeclock session\n",
    "# Try: Except\n",
    "\n",
    "# cd()\n",
    "\n",
    "# # Unzip submissions\n",
    "# if 'submissions.zip' in os.listdir():\n",
    "#     with ZipFile('submissions.zip','r') as zip_file:\n",
    "#         zip_file.extractall('submissions')\n",
    "\n",
    "\n",
    "\n",
    "\n",
    "\n",
    "\n",
    "\n",
    "# extract_markdown('Assignment 5 Solution.ipynb')"
   ]
  },
  {
   "cell_type": "code",
   "execution_count": 11,
   "id": "0c8f4c8a",
   "metadata": {},
   "outputs": [],
   "source": [
    "# Read Student grades and comment codes\n",
    "# Calculate final scores\n",
    "# cd()\n",
    "\n"
   ]
  },
  {
   "cell_type": "markdown",
   "id": "6c813463",
   "metadata": {},
   "source": [
    "import tkinter as tk\n",
    "from tkinter import simpledialog\n",
    "\n",
    "root = tk.Tk()\n",
    "root.withdraw()\n",
    "user_input = simpledialog.askstring(\"Input\",\"Enter input:\")\n",
    "print(\"You entered:\",user_input)"
   ]
  },
  {
   "cell_type": "code",
   "execution_count": 22,
   "id": "5f784e18",
   "metadata": {},
   "outputs": [
    {
     "data": {
      "text/plain": [
       "['4']"
      ]
     },
     "execution_count": 22,
     "metadata": {},
     "output_type": "execute_result"
    }
   ],
   "source": [
    "test = 4\n",
    "str(test).split(',')"
   ]
  },
  {
   "cell_type": "code",
   "execution_count": null,
   "id": "eb6ab8e6",
   "metadata": {},
   "outputs": [],
   "source": []
  }
 ],
 "metadata": {
  "kernelspec": {
   "display_name": "Python 3 (ipykernel)",
   "language": "python",
   "name": "python3"
  },
  "language_info": {
   "codemirror_mode": {
    "name": "ipython",
    "version": 3
   },
   "file_extension": ".py",
   "mimetype": "text/x-python",
   "name": "python",
   "nbconvert_exporter": "python",
   "pygments_lexer": "ipython3",
   "version": "3.11.7"
  }
 },
 "nbformat": 4,
 "nbformat_minor": 5
}
